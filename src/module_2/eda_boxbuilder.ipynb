{
 "cells": [
  {
   "metadata": {
    "ExecuteTime": {
     "end_time": "2025-10-13T11:37:37.757725Z",
     "start_time": "2025-10-13T11:37:37.712540Z"
    }
   },
   "cell_type": "code",
   "source": [
    "# Confirmamos ruta del archivo\n",
    "import pandas as pd\n",
    "import os\n",
    "\n",
    "file_path = r\"C:\\Users\\Lucia\\PycharmProjects\\zrive-ds\\src\\module_2\\data\\groceries\\feature_frame.csv\"\n",
    "\n",
    "if not os.path.exists(file_path):\n",
    "    raise FileNotFoundError(f\"Archivo no encontrado en: {file_path}\")\n",
    "else:\n",
    "    print(\"✅ Archivo encontrado:\", file_path)"
   ],
   "id": "882db73c155fbc83",
   "outputs": [
    {
     "name": "stdout",
     "output_type": "stream",
     "text": [
      "✅ Archivo encontrado: C:\\Users\\Lucia\\PycharmProjects\\zrive-ds\\src\\module_2\\data\\groceries\\feature_frame.csv\n"
     ]
    }
   ],
   "execution_count": 18
  },
  {
   "metadata": {
    "ExecuteTime": {
     "end_time": "2025-10-13T11:38:19.988970Z",
     "start_time": "2025-10-13T11:37:38.945231Z"
    }
   },
   "cell_type": "code",
   "source": [
    "# Cargamos CSV evitando DtypeWarning\n",
    "df = pd.read_csv(file_path, header=None, low_memory=False)"
   ],
   "id": "4c6e0edd0d37b75a",
   "outputs": [],
   "execution_count": 19
  },
  {
   "metadata": {
    "ExecuteTime": {
     "end_time": "2025-10-13T11:38:47.909544Z",
     "start_time": "2025-10-13T11:38:47.804047Z"
    }
   },
   "cell_type": "code",
   "source": [
    "# Asignamos nombres a columnas\n",
    "column_names = [\n",
    "    \"order_id\", \"aisle\", \"user_id\", \"product_id\", \"order_datetime\",\n",
    "    \"order_date\", \"order_number\", \"feature_1\", \"feature_2\", \"feature_3\",\n",
    "    \"feature_4\", \"feature_5\", \"feature_6\", \"feature_7\", \"brand\",\n",
    "    \"feature_8\", \"feature_9\", \"feature_10\", \"feature_11\", \"feature_12\",\n",
    "    \"feature_13\", \"feature_14\", \"feature_15\", \"feature_16\", \"feature_17\",\n",
    "    \"feature_18\", \"feature_19\"\n",
    "]\n",
    "df.columns = column_names"
   ],
   "id": "52d09fe8334eb1b3",
   "outputs": [],
   "execution_count": 23
  },
  {
   "metadata": {
    "ExecuteTime": {
     "end_time": "2025-10-13T11:40:38.290487Z",
     "start_time": "2025-10-13T11:40:37.483985Z"
    }
   },
   "cell_type": "code",
   "source": [
    "# Convertimos tipos de columnas importantes\n",
    "df[\"order_id\"] = df[\"order_id\"].astype(str)\n",
    "df[\"user_id\"] = df[\"user_id\"].astype(str)\n",
    "df[\"product_id\"] = df[\"product_id\"].astype(str)\n",
    "\n",
    "# order_number como entero\n",
    "df[\"order_number\"] = pd.to_numeric(df[\"order_number\"], errors='coerce')\n",
    "\n",
    "# order_datetime y order_date como datetime\n",
    "df[\"order_datetime\"] = pd.to_datetime(df[\"order_datetime\"], format=\"%Y-%m-%d %H:%M:%S\", errors='coerce')\n",
    "df[\"order_date\"] = pd.to_datetime(df[\"order_date\"], format=\"%Y-%m-%d\", errors='coerce')"
   ],
   "id": "a2158624dbfa230d",
   "outputs": [],
   "execution_count": 25
  },
  {
   "metadata": {
    "ExecuteTime": {
     "end_time": "2025-10-13T11:40:56.387944Z",
     "start_time": "2025-10-13T11:40:56.319854Z"
    }
   },
   "cell_type": "code",
   "source": "# ANÁLISIS EXPLORATORIO DE DATOS (EDA)",
   "id": "e97cd6d6976b6c15",
   "outputs": [],
   "execution_count": 26
  },
  {
   "metadata": {
    "ExecuteTime": {
     "end_time": "2025-10-13T11:41:18.855408Z",
     "start_time": "2025-10-13T11:41:18.802317Z"
    }
   },
   "cell_type": "code",
   "source": "df.shape",
   "id": "5aca12451cad1643",
   "outputs": [
    {
     "data": {
      "text/plain": [
       "(2880550, 27)"
      ]
     },
     "execution_count": 27,
     "metadata": {},
     "output_type": "execute_result"
    }
   ],
   "execution_count": 27
  },
  {
   "metadata": {
    "ExecuteTime": {
     "end_time": "2025-10-13T11:44:57.312706Z",
     "start_time": "2025-10-13T11:44:50.585939Z"
    }
   },
   "cell_type": "code",
   "source": [
    "# Hay 2880550 filas y 27 columnas, es decir, hay 2880550 productos (órdenes) y de cada producto tenemos 27 características (features). Veamos los valores nulos por columna:\n",
    "df.isnull().sum()"
   ],
   "id": "90b54f6be7d5d22c",
   "outputs": [
    {
     "data": {
      "text/plain": [
       "order_id          0\n",
       "aisle             0\n",
       "user_id           0\n",
       "product_id        0\n",
       "order_datetime    1\n",
       "order_date        1\n",
       "order_number      1\n",
       "feature_1         0\n",
       "feature_2         0\n",
       "feature_3         0\n",
       "feature_4         0\n",
       "feature_5         0\n",
       "feature_6         0\n",
       "feature_7         0\n",
       "brand             0\n",
       "feature_8         0\n",
       "feature_9         0\n",
       "feature_10        0\n",
       "feature_11        0\n",
       "feature_12        0\n",
       "feature_13        0\n",
       "feature_14        0\n",
       "feature_15        0\n",
       "feature_16        0\n",
       "feature_17        0\n",
       "feature_18        0\n",
       "feature_19        0\n",
       "dtype: int64"
      ]
     },
     "execution_count": 28,
     "metadata": {},
     "output_type": "execute_result"
    }
   ],
   "execution_count": 28
  },
  {
   "metadata": {
    "ExecuteTime": {
     "end_time": "2025-10-13T11:51:37.569028Z",
     "start_time": "2025-10-13T11:51:36.367202Z"
    }
   },
   "cell_type": "code",
   "source": [
    "# Sólo tengo un valor nulo en las columnas: order_datetime, order_date, order_number.\n",
    "# Estadísticas de columnas numéricas\n",
    "df.describe() # No tiene mucho sentido para estas columnas ya que son fechas"
   ],
   "id": "8542216f97f4826c",
   "outputs": [
    {
     "data": {
      "text/plain": [
       "                      order_datetime                     order_date  \\\n",
       "count                        2880549                        2880549   \n",
       "mean   2021-01-13 02:56:12.506719744  2021-01-12 12:11:14.646395904   \n",
       "min              2020-10-05 16:46:19            2020-10-05 00:00:00   \n",
       "25%              2020-12-16 21:06:58            2020-12-16 00:00:00   \n",
       "50%              2021-01-22 07:36:39            2021-01-22 00:00:00   \n",
       "75%              2021-02-14 18:19:46            2021-02-14 00:00:00   \n",
       "max              2021-03-03 14:42:05            2021-03-03 00:00:00   \n",
       "std                              NaN                            NaN   \n",
       "\n",
       "       order_number  \n",
       "count  2.880549e+06  \n",
       "mean   3.289342e+00  \n",
       "min    2.000000e+00  \n",
       "25%    2.000000e+00  \n",
       "50%    3.000000e+00  \n",
       "75%    4.000000e+00  \n",
       "max    2.100000e+01  \n",
       "std    2.140176e+00  "
      ],
      "text/html": [
       "<div>\n",
       "<style scoped>\n",
       "    .dataframe tbody tr th:only-of-type {\n",
       "        vertical-align: middle;\n",
       "    }\n",
       "\n",
       "    .dataframe tbody tr th {\n",
       "        vertical-align: top;\n",
       "    }\n",
       "\n",
       "    .dataframe thead th {\n",
       "        text-align: right;\n",
       "    }\n",
       "</style>\n",
       "<table border=\"1\" class=\"dataframe\">\n",
       "  <thead>\n",
       "    <tr style=\"text-align: right;\">\n",
       "      <th></th>\n",
       "      <th>order_datetime</th>\n",
       "      <th>order_date</th>\n",
       "      <th>order_number</th>\n",
       "    </tr>\n",
       "  </thead>\n",
       "  <tbody>\n",
       "    <tr>\n",
       "      <th>count</th>\n",
       "      <td>2880549</td>\n",
       "      <td>2880549</td>\n",
       "      <td>2.880549e+06</td>\n",
       "    </tr>\n",
       "    <tr>\n",
       "      <th>mean</th>\n",
       "      <td>2021-01-13 02:56:12.506719744</td>\n",
       "      <td>2021-01-12 12:11:14.646395904</td>\n",
       "      <td>3.289342e+00</td>\n",
       "    </tr>\n",
       "    <tr>\n",
       "      <th>min</th>\n",
       "      <td>2020-10-05 16:46:19</td>\n",
       "      <td>2020-10-05 00:00:00</td>\n",
       "      <td>2.000000e+00</td>\n",
       "    </tr>\n",
       "    <tr>\n",
       "      <th>25%</th>\n",
       "      <td>2020-12-16 21:06:58</td>\n",
       "      <td>2020-12-16 00:00:00</td>\n",
       "      <td>2.000000e+00</td>\n",
       "    </tr>\n",
       "    <tr>\n",
       "      <th>50%</th>\n",
       "      <td>2021-01-22 07:36:39</td>\n",
       "      <td>2021-01-22 00:00:00</td>\n",
       "      <td>3.000000e+00</td>\n",
       "    </tr>\n",
       "    <tr>\n",
       "      <th>75%</th>\n",
       "      <td>2021-02-14 18:19:46</td>\n",
       "      <td>2021-02-14 00:00:00</td>\n",
       "      <td>4.000000e+00</td>\n",
       "    </tr>\n",
       "    <tr>\n",
       "      <th>max</th>\n",
       "      <td>2021-03-03 14:42:05</td>\n",
       "      <td>2021-03-03 00:00:00</td>\n",
       "      <td>2.100000e+01</td>\n",
       "    </tr>\n",
       "    <tr>\n",
       "      <th>std</th>\n",
       "      <td>NaN</td>\n",
       "      <td>NaN</td>\n",
       "      <td>2.140176e+00</td>\n",
       "    </tr>\n",
       "  </tbody>\n",
       "</table>\n",
       "</div>"
      ]
     },
     "execution_count": 34,
     "metadata": {},
     "output_type": "execute_result"
    }
   ],
   "execution_count": 34
  },
  {
   "metadata": {
    "ExecuteTime": {
     "end_time": "2025-10-13T11:56:27.522524Z",
     "start_time": "2025-10-13T11:56:27.493903Z"
    }
   },
   "cell_type": "code",
   "source": [
    "# En este caso, el dataset nos informa si un producto es comprado (1) o no (0), es decir, la variable objetivo es una variable binaria.\n",
    "print(df.columns.tolist())  # Lista todas las columnas"
   ],
   "id": "81e28ea81b8509b1",
   "outputs": [
    {
     "name": "stdout",
     "output_type": "stream",
     "text": [
      "['order_id', 'aisle', 'user_id', 'product_id', 'order_datetime', 'order_date', 'order_number', 'feature_1', 'feature_2', 'feature_3', 'feature_4', 'feature_5', 'feature_6', 'feature_7', 'brand', 'feature_8', 'feature_9', 'feature_10', 'feature_11', 'feature_12', 'feature_13', 'feature_14', 'feature_15', 'feature_16', 'feature_17', 'feature_18', 'feature_19']\n"
     ]
    }
   ],
   "execution_count": 36
  },
  {
   "metadata": {
    "ExecuteTime": {
     "end_time": "2025-10-13T11:57:11.430796Z",
     "start_time": "2025-10-13T11:57:11.373970Z"
    }
   },
   "cell_type": "code",
   "source": [
    "# Veamos qué info aporta cada columna (sobre todo las features)\n",
    "print(df.head()) # primeras filas"
   ],
   "id": "e8b7c5e671c04bd0",
   "outputs": [
    {
     "name": "stdout",
     "output_type": "stream",
     "text": [
      "         order_id            aisle        user_id     product_id  \\\n",
      "0      variant_id     product_type       order_id        user_id   \n",
      "1  33826472919172  ricepastapulses  2807985930372  3482464092292   \n",
      "2  33826472919172  ricepastapulses  2808027644036  3466586718340   \n",
      "3  33826472919172  ricepastapulses  2808099078276  3481384026244   \n",
      "4  33826472919172  ricepastapulses  2808393957508  3291363377284   \n",
      "\n",
      "       order_datetime order_date  order_number feature_1       feature_2  \\\n",
      "0                 NaT        NaT           NaN   outcome  ordered_before   \n",
      "1 2020-10-05 16:46:19 2020-10-05           3.0       0.0             0.0   \n",
      "2 2020-10-05 17:59:51 2020-10-05           2.0       0.0             0.0   \n",
      "3 2020-10-05 20:08:53 2020-10-05           4.0       0.0             0.0   \n",
      "4 2020-10-06 08:57:59 2020-10-06           2.0       0.0             0.0   \n",
      "\n",
      "          feature_3  ...      feature_10    feature_11  feature_12  \\\n",
      "0  abandoned_before  ...  count_children  count_babies  count_pets   \n",
      "1               0.0  ...             0.0           0.0         0.0   \n",
      "2               0.0  ...             0.0           0.0         0.0   \n",
      "3               0.0  ...             0.0           0.0         0.0   \n",
      "4               0.0  ...             0.0           0.0         0.0   \n",
      "\n",
      "       feature_13                      feature_14                  feature_15  \\\n",
      "0  people_ex_baby  days_since_purchase_variant_id  avg_days_to_buy_variant_id   \n",
      "1             2.0                            33.0                        42.0   \n",
      "2             2.0                            33.0                        42.0   \n",
      "3             2.0                            33.0                        42.0   \n",
      "4             2.0                            33.0                        42.0   \n",
      "\n",
      "                   feature_16                        feature_17  \\\n",
      "0  std_days_to_buy_variant_id  days_since_purchase_product_type   \n",
      "1          31.134053301261627                              30.0   \n",
      "2          31.134053301261627                              30.0   \n",
      "3          31.134053301261627                              30.0   \n",
      "4          31.134053301261627                              30.0   \n",
      "\n",
      "                     feature_18                    feature_19  \n",
      "0  avg_days_to_buy_product_type  std_days_to_buy_product_type  \n",
      "1                          30.0            24.276180060339996  \n",
      "2                          30.0            24.276180060339996  \n",
      "3                          30.0            24.276180060339996  \n",
      "4                          30.0            24.276180060339996  \n",
      "\n",
      "[5 rows x 27 columns]\n"
     ]
    }
   ],
   "execution_count": 37
  },
  {
   "metadata": {
    "ExecuteTime": {
     "end_time": "2025-10-13T11:58:13.649860Z",
     "start_time": "2025-10-13T11:58:13.520124Z"
    }
   },
   "cell_type": "code",
   "source": "print(df.info()) # tipo de datos de cada columa",
   "id": "4e517fe30b8743a8",
   "outputs": [
    {
     "name": "stdout",
     "output_type": "stream",
     "text": [
      "<class 'pandas.core.frame.DataFrame'>\n",
      "RangeIndex: 2880550 entries, 0 to 2880549\n",
      "Data columns (total 27 columns):\n",
      " #   Column          Dtype         \n",
      "---  ------          -----         \n",
      " 0   order_id        object        \n",
      " 1   aisle           object        \n",
      " 2   user_id         object        \n",
      " 3   product_id      object        \n",
      " 4   order_datetime  datetime64[ns]\n",
      " 5   order_date      datetime64[ns]\n",
      " 6   order_number    float64       \n",
      " 7   feature_1       object        \n",
      " 8   feature_2       object        \n",
      " 9   feature_3       object        \n",
      " 10  feature_4       object        \n",
      " 11  feature_5       object        \n",
      " 12  feature_6       object        \n",
      " 13  feature_7       object        \n",
      " 14  brand           object        \n",
      " 15  feature_8       object        \n",
      " 16  feature_9       object        \n",
      " 17  feature_10      object        \n",
      " 18  feature_11      object        \n",
      " 19  feature_12      object        \n",
      " 20  feature_13      object        \n",
      " 21  feature_14      object        \n",
      " 22  feature_15      object        \n",
      " 23  feature_16      object        \n",
      " 24  feature_17      object        \n",
      " 25  feature_18      object        \n",
      " 26  feature_19      object        \n",
      "dtypes: datetime64[ns](2), float64(1), object(24)\n",
      "memory usage: 593.4+ MB\n",
      "None\n"
     ]
    }
   ],
   "execution_count": 38
  },
  {
   "metadata": {
    "ExecuteTime": {
     "end_time": "2025-10-13T12:10:24.467955Z",
     "start_time": "2025-10-13T12:10:21.795410Z"
    }
   },
   "cell_type": "code",
   "source": "print(df['outcome'].head())  # Muestra las primeras 5 filas\n",
   "id": "c60d791b6d665f9a",
   "outputs": [
    {
     "ename": "KeyError",
     "evalue": "'outcome'",
     "output_type": "error",
     "traceback": [
      "\u001B[31m---------------------------------------------------------------------------\u001B[39m",
      "\u001B[31mKeyError\u001B[39m                                  Traceback (most recent call last)",
      "\u001B[36mFile \u001B[39m\u001B[32m~\\AppData\\Local\\Programs\\Python\\Python312\\Lib\\site-packages\\pandas\\core\\indexes\\base.py:3812\u001B[39m, in \u001B[36mIndex.get_loc\u001B[39m\u001B[34m(self, key)\u001B[39m\n\u001B[32m   3811\u001B[39m \u001B[38;5;28;01mtry\u001B[39;00m:\n\u001B[32m-> \u001B[39m\u001B[32m3812\u001B[39m     \u001B[38;5;28;01mreturn\u001B[39;00m \u001B[38;5;28;43mself\u001B[39;49m\u001B[43m.\u001B[49m\u001B[43m_engine\u001B[49m\u001B[43m.\u001B[49m\u001B[43mget_loc\u001B[49m\u001B[43m(\u001B[49m\u001B[43mcasted_key\u001B[49m\u001B[43m)\u001B[49m\n\u001B[32m   3813\u001B[39m \u001B[38;5;28;01mexcept\u001B[39;00m \u001B[38;5;167;01mKeyError\u001B[39;00m \u001B[38;5;28;01mas\u001B[39;00m err:\n",
      "\u001B[36mFile \u001B[39m\u001B[32mpandas/_libs/index.pyx:167\u001B[39m, in \u001B[36mpandas._libs.index.IndexEngine.get_loc\u001B[39m\u001B[34m()\u001B[39m\n",
      "\u001B[36mFile \u001B[39m\u001B[32mpandas/_libs/index.pyx:196\u001B[39m, in \u001B[36mpandas._libs.index.IndexEngine.get_loc\u001B[39m\u001B[34m()\u001B[39m\n",
      "\u001B[36mFile \u001B[39m\u001B[32mpandas/_libs/hashtable_class_helper.pxi:7088\u001B[39m, in \u001B[36mpandas._libs.hashtable.PyObjectHashTable.get_item\u001B[39m\u001B[34m()\u001B[39m\n",
      "\u001B[36mFile \u001B[39m\u001B[32mpandas/_libs/hashtable_class_helper.pxi:7096\u001B[39m, in \u001B[36mpandas._libs.hashtable.PyObjectHashTable.get_item\u001B[39m\u001B[34m()\u001B[39m\n",
      "\u001B[31mKeyError\u001B[39m: 'outcome'",
      "\nThe above exception was the direct cause of the following exception:\n",
      "\u001B[31mKeyError\u001B[39m                                  Traceback (most recent call last)",
      "\u001B[36mCell\u001B[39m\u001B[36m \u001B[39m\u001B[32mIn[45]\u001B[39m\u001B[32m, line 1\u001B[39m\n\u001B[32m----> \u001B[39m\u001B[32m1\u001B[39m \u001B[38;5;28mprint\u001B[39m(\u001B[43mdf\u001B[49m\u001B[43m[\u001B[49m\u001B[33;43m'\u001B[39;49m\u001B[33;43moutcome\u001B[39;49m\u001B[33;43m'\u001B[39;49m\u001B[43m]\u001B[49m.head())  \u001B[38;5;66;03m# Muestra las primeras 5 filas\u001B[39;00m\n",
      "\u001B[36mFile \u001B[39m\u001B[32m~\\AppData\\Local\\Programs\\Python\\Python312\\Lib\\site-packages\\pandas\\core\\frame.py:4113\u001B[39m, in \u001B[36mDataFrame.__getitem__\u001B[39m\u001B[34m(self, key)\u001B[39m\n\u001B[32m   4111\u001B[39m \u001B[38;5;28;01mif\u001B[39;00m \u001B[38;5;28mself\u001B[39m.columns.nlevels > \u001B[32m1\u001B[39m:\n\u001B[32m   4112\u001B[39m     \u001B[38;5;28;01mreturn\u001B[39;00m \u001B[38;5;28mself\u001B[39m._getitem_multilevel(key)\n\u001B[32m-> \u001B[39m\u001B[32m4113\u001B[39m indexer = \u001B[38;5;28;43mself\u001B[39;49m\u001B[43m.\u001B[49m\u001B[43mcolumns\u001B[49m\u001B[43m.\u001B[49m\u001B[43mget_loc\u001B[49m\u001B[43m(\u001B[49m\u001B[43mkey\u001B[49m\u001B[43m)\u001B[49m\n\u001B[32m   4114\u001B[39m \u001B[38;5;28;01mif\u001B[39;00m is_integer(indexer):\n\u001B[32m   4115\u001B[39m     indexer = [indexer]\n",
      "\u001B[36mFile \u001B[39m\u001B[32m~\\AppData\\Local\\Programs\\Python\\Python312\\Lib\\site-packages\\pandas\\core\\indexes\\base.py:3819\u001B[39m, in \u001B[36mIndex.get_loc\u001B[39m\u001B[34m(self, key)\u001B[39m\n\u001B[32m   3814\u001B[39m     \u001B[38;5;28;01mif\u001B[39;00m \u001B[38;5;28misinstance\u001B[39m(casted_key, \u001B[38;5;28mslice\u001B[39m) \u001B[38;5;129;01mor\u001B[39;00m (\n\u001B[32m   3815\u001B[39m         \u001B[38;5;28misinstance\u001B[39m(casted_key, abc.Iterable)\n\u001B[32m   3816\u001B[39m         \u001B[38;5;129;01mand\u001B[39;00m \u001B[38;5;28many\u001B[39m(\u001B[38;5;28misinstance\u001B[39m(x, \u001B[38;5;28mslice\u001B[39m) \u001B[38;5;28;01mfor\u001B[39;00m x \u001B[38;5;129;01min\u001B[39;00m casted_key)\n\u001B[32m   3817\u001B[39m     ):\n\u001B[32m   3818\u001B[39m         \u001B[38;5;28;01mraise\u001B[39;00m InvalidIndexError(key)\n\u001B[32m-> \u001B[39m\u001B[32m3819\u001B[39m     \u001B[38;5;28;01mraise\u001B[39;00m \u001B[38;5;167;01mKeyError\u001B[39;00m(key) \u001B[38;5;28;01mfrom\u001B[39;00m\u001B[38;5;250m \u001B[39m\u001B[34;01merr\u001B[39;00m\n\u001B[32m   3820\u001B[39m \u001B[38;5;28;01mexcept\u001B[39;00m \u001B[38;5;167;01mTypeError\u001B[39;00m:\n\u001B[32m   3821\u001B[39m     \u001B[38;5;66;03m# If we have a listlike key, _check_indexing_error will raise\u001B[39;00m\n\u001B[32m   3822\u001B[39m     \u001B[38;5;66;03m#  InvalidIndexError. Otherwise we fall through and re-raise\u001B[39;00m\n\u001B[32m   3823\u001B[39m     \u001B[38;5;66;03m#  the TypeError.\u001B[39;00m\n\u001B[32m   3824\u001B[39m     \u001B[38;5;28mself\u001B[39m._check_indexing_error(key)\n",
      "\u001B[31mKeyError\u001B[39m: 'outcome'"
     ]
    }
   ],
   "execution_count": 45
  },
  {
   "metadata": {},
   "cell_type": "code",
   "outputs": [],
   "execution_count": null,
   "source": "",
   "id": "f2fbed657536b4d4"
  }
 ],
 "metadata": {
  "kernelspec": {
   "display_name": "Python 3",
   "language": "python",
   "name": "python3"
  },
  "language_info": {
   "codemirror_mode": {
    "name": "ipython",
    "version": 2
   },
   "file_extension": ".py",
   "mimetype": "text/x-python",
   "name": "python",
   "nbconvert_exporter": "python",
   "pygments_lexer": "ipython2",
   "version": "2.7.6"
  }
 },
 "nbformat": 4,
 "nbformat_minor": 5
}
