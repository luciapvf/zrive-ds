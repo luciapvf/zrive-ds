{
 "cells": [
  {
   "metadata": {
    "ExecuteTime": {
     "end_time": "2025-10-12T22:22:45.928064Z",
     "start_time": "2025-10-12T22:22:39.753768Z"
    }
   },
   "cell_type": "code",
   "source": [
    "# CONEXIÓN\n",
    "# Importamos librerías\n",
    "import pandas as pd\n",
    "import seaborn as sns\n",
    "import matplotlib.pyplot as plt\n",
    "import os\n",
    "from dotenv import load_dotenv\n",
    "import boto3\n",
    "\n",
    "# Configuración visual\n",
    "sns.set(style=\"whitegrid\")\n",
    "plt.rcParams[\"figure.figsize\"] = (10, 6)\n",
    "\n",
    "# Cargar variables del entorno (.env)\n",
    "load_dotenv(\".env\")\n",
    "\n",
    "aws_access_key_id = os.getenv(\"AWS_ACCESS_KEY_ID\")\n",
    "aws_secret_access_key = os.getenv(\"AWS_SECRET_ACCESS_KEY\")\n",
    "aws_region = os.getenv(\"AWS_DEFAULT_REGION\")\n",
    "\n",
    "print(\" Variables AWS cargadas correctamente:\", aws_access_key_id[:8], \"*****\")\n",
    "\n",
    "# Conectarse a S3 (verificar permisos)\n",
    "s3 = boto3.client(\n",
    "    \"s3\",\n",
    "    aws_access_key_id=aws_access_key_id,\n",
    "    aws_secret_access_key=aws_secret_access_key,\n",
    "    region_name=aws_region\n",
    ")\n",
    "\n",
    "bucket = \"zrive-ds-data\"\n",
    "prefix = \"groceries/sampled-datasets/\"\n",
    "\n",
    "try:\n",
    "    response = s3.list_objects_v2(Bucket=bucket, Prefix=prefix)\n",
    "    print(\"Archivos disponibles en S3:\")\n",
    "    for obj in response.get(\"Contents\", []):\n",
    "        print(\"-\", obj[\"Key\"])\n",
    "except Exception as e:\n",
    "    print(\"No se pudieron listar los objetos (puede que no tengas permisos).\")\n",
    "    print(e)\n"
   ],
   "id": "21806fa71a23bdb0",
   "outputs": [
    {
     "name": "stdout",
     "output_type": "stream",
     "text": [
      " Variables AWS cargadas correctamente: AKIAXN64 *****\n",
      "Archivos disponibles en S3:\n",
      "- groceries/sampled-datasets/abandoned_carts.parquet\n",
      "- groceries/sampled-datasets/inventory.parquet\n",
      "- groceries/sampled-datasets/orders.parquet\n",
      "- groceries/sampled-datasets/regulars.parquet\n",
      "- groceries/sampled-datasets/users.parquet\n"
     ]
    }
   ],
   "execution_count": 5
  },
  {
   "metadata": {
    "ExecuteTime": {
     "end_time": "2025-10-12T22:22:52.226729Z",
     "start_time": "2025-10-12T22:22:45.953762Z"
    }
   },
   "cell_type": "code",
   "source": [
    "# DESCARGA DE DATOS\n",
    "import os\n",
    "from botocore.exceptions import ClientError\n",
    "\n",
    "files_to_download = [\n",
    "    \"groceries/sampled-datasets/orders.parquet\",\n",
    "    \"groceries/sampled-datasets/regulars.parquet\",\n",
    "    \"groceries/sampled-datasets/abandoned_carts.parquet\",\n",
    "    \"groceries/sampled-datasets/inventory.parquet\",\n",
    "    \"groceries/sampled-datasets/users.parquet\",\n",
    "]\n",
    "\n",
    "os.makedirs(\"data/groceries\", exist_ok=True)\n",
    "\n",
    "for file_key in files_to_download:\n",
    "    local_path = os.path.join(\"data/groceries\", os.path.basename(file_key))\n",
    "    try:\n",
    "        print(f\"Descargando {file_key} → {local_path}\")\n",
    "        s3.download_file(bucket, file_key, local_path)\n",
    "    except ClientError as e:\n",
    "        print(f\"⚠️ Error al descargar {file_key}: {e}\")\n"
   ],
   "id": "c381be7f4d7e15e2",
   "outputs": [
    {
     "name": "stdout",
     "output_type": "stream",
     "text": [
      "Descargando groceries/sampled-datasets/orders.parquet → data/groceries\\orders.parquet\n",
      "Descargando groceries/sampled-datasets/regulars.parquet → data/groceries\\regulars.parquet\n",
      "Descargando groceries/sampled-datasets/abandoned_carts.parquet → data/groceries\\abandoned_carts.parquet\n",
      "Descargando groceries/sampled-datasets/inventory.parquet → data/groceries\\inventory.parquet\n",
      "Descargando groceries/sampled-datasets/users.parquet → data/groceries\\users.parquet\n"
     ]
    }
   ],
   "execution_count": 6
  },
  {
   "metadata": {
    "ExecuteTime": {
     "end_time": "2025-10-12T22:22:52.334517Z",
     "start_time": "2025-10-12T22:22:52.329325Z"
    }
   },
   "cell_type": "code",
   "source": "# Hasta aquí he comprobado que todo funciona correctamente y he descargado los datos.",
   "id": "b4e7500572859bbc",
   "outputs": [],
   "execution_count": 8
  },
  {
   "metadata": {
    "ExecuteTime": {
     "end_time": "2025-10-12T22:22:52.985446Z",
     "start_time": "2025-10-12T22:22:52.593367Z"
    }
   },
   "cell_type": "code",
   "source": "# ANÁLISIS EXPLORATORIO DE DATOS (EDA)",
   "id": "6a79566d45a1590f",
   "outputs": [],
   "execution_count": 9
  },
  {
   "metadata": {
    "ExecuteTime": {
     "end_time": "2025-10-12T22:22:57.358360Z",
     "start_time": "2025-10-12T22:22:56.529135Z"
    }
   },
   "cell_type": "code",
   "source": [
    "import pandas as pd\n",
    "import os\n",
    "\n",
    "# Definimos la ruta base\n",
    "data_path = \"data/groceries\"\n",
    "\n",
    "# Cargamos datasets\n",
    "orders = pd.read_parquet(os.path.join(data_path, \"orders.parquet\"))\n",
    "regulars = pd.read_parquet(os.path.join(data_path, \"regulars.parquet\"))\n",
    "abandoned = pd.read_parquet(os.path.join(data_path, \"abandoned_carts.parquet\"))\n",
    "inventory = pd.read_parquet(os.path.join(data_path, \"inventory.parquet\"))\n",
    "users = pd.read_parquet(os.path.join(data_path, \"users.parquet\"))\n",
    "\n",
    "# Mostramos tamaños\n",
    "for name, df in {\n",
    "    \"Orders\": orders,\n",
    "    \"Regulars\": regulars,\n",
    "    \"Abandoned carts\": abandoned,\n",
    "    \"Inventory\": inventory,\n",
    "    \"Users\": users\n",
    "}.items():\n",
    "    print(f\"{name:18} → {df.shape[0]} filas, {df.shape[1]} columnas\")\n",
    "\n",
    "# Primeras filas de cada usuario\n",
    "orders.head()"
   ],
   "id": "a01d072112767bb5",
   "outputs": [
    {
     "name": "stdout",
     "output_type": "stream",
     "text": [
      "Orders             → 8773 filas, 6 columnas\n",
      "Regulars           → 18105 filas, 3 columnas\n",
      "Abandoned carts    → 5457 filas, 4 columnas\n",
      "Inventory          → 1733 filas, 6 columnas\n",
      "Users              → 4983 filas, 10 columnas\n"
     ]
    },
    {
     "data": {
      "text/plain": [
       "               id                                            user_id  \\\n",
       "10  2204073066628  62e271062eb827e411bd73941178d29b022f5f2de9d37f...   \n",
       "20  2204707520644  bf591c887c46d5d3513142b6a855dd7ffb9cc00697f6f5...   \n",
       "21  2204838822020  329f08c66abb51f8c0b8a9526670da2d94c0c6eef06700...   \n",
       "34  2208967852164  f6451fce7b1c58d0effbe37fcb4e67b718193562766470...   \n",
       "49  2215889436804  68e872ff888303bff58ec56a3a986f77ddebdbe5c279e7...   \n",
       "\n",
       "            created_at order_date  user_order_seq  \\\n",
       "10 2020-04-30 14:32:19 2020-04-30               1   \n",
       "20 2020-04-30 17:39:00 2020-04-30               1   \n",
       "21 2020-04-30 18:12:30 2020-04-30               1   \n",
       "34 2020-05-01 19:44:11 2020-05-01               1   \n",
       "49 2020-05-03 21:56:14 2020-05-03               1   \n",
       "\n",
       "                                        ordered_items  \n",
       "10  [33618849693828, 33618860179588, 3361887404045...  \n",
       "20  [33618835243140, 33618835964036, 3361886244058...  \n",
       "21  [33618891145348, 33618893570180, 3361889766618...  \n",
       "34  [33618830196868, 33618846580868, 3361891234624...  \n",
       "49  [33667166699652, 33667166699652, 3366717122163...  "
      ],
      "text/html": [
       "<div>\n",
       "<style scoped>\n",
       "    .dataframe tbody tr th:only-of-type {\n",
       "        vertical-align: middle;\n",
       "    }\n",
       "\n",
       "    .dataframe tbody tr th {\n",
       "        vertical-align: top;\n",
       "    }\n",
       "\n",
       "    .dataframe thead th {\n",
       "        text-align: right;\n",
       "    }\n",
       "</style>\n",
       "<table border=\"1\" class=\"dataframe\">\n",
       "  <thead>\n",
       "    <tr style=\"text-align: right;\">\n",
       "      <th></th>\n",
       "      <th>id</th>\n",
       "      <th>user_id</th>\n",
       "      <th>created_at</th>\n",
       "      <th>order_date</th>\n",
       "      <th>user_order_seq</th>\n",
       "      <th>ordered_items</th>\n",
       "    </tr>\n",
       "  </thead>\n",
       "  <tbody>\n",
       "    <tr>\n",
       "      <th>10</th>\n",
       "      <td>2204073066628</td>\n",
       "      <td>62e271062eb827e411bd73941178d29b022f5f2de9d37f...</td>\n",
       "      <td>2020-04-30 14:32:19</td>\n",
       "      <td>2020-04-30</td>\n",
       "      <td>1</td>\n",
       "      <td>[33618849693828, 33618860179588, 3361887404045...</td>\n",
       "    </tr>\n",
       "    <tr>\n",
       "      <th>20</th>\n",
       "      <td>2204707520644</td>\n",
       "      <td>bf591c887c46d5d3513142b6a855dd7ffb9cc00697f6f5...</td>\n",
       "      <td>2020-04-30 17:39:00</td>\n",
       "      <td>2020-04-30</td>\n",
       "      <td>1</td>\n",
       "      <td>[33618835243140, 33618835964036, 3361886244058...</td>\n",
       "    </tr>\n",
       "    <tr>\n",
       "      <th>21</th>\n",
       "      <td>2204838822020</td>\n",
       "      <td>329f08c66abb51f8c0b8a9526670da2d94c0c6eef06700...</td>\n",
       "      <td>2020-04-30 18:12:30</td>\n",
       "      <td>2020-04-30</td>\n",
       "      <td>1</td>\n",
       "      <td>[33618891145348, 33618893570180, 3361889766618...</td>\n",
       "    </tr>\n",
       "    <tr>\n",
       "      <th>34</th>\n",
       "      <td>2208967852164</td>\n",
       "      <td>f6451fce7b1c58d0effbe37fcb4e67b718193562766470...</td>\n",
       "      <td>2020-05-01 19:44:11</td>\n",
       "      <td>2020-05-01</td>\n",
       "      <td>1</td>\n",
       "      <td>[33618830196868, 33618846580868, 3361891234624...</td>\n",
       "    </tr>\n",
       "    <tr>\n",
       "      <th>49</th>\n",
       "      <td>2215889436804</td>\n",
       "      <td>68e872ff888303bff58ec56a3a986f77ddebdbe5c279e7...</td>\n",
       "      <td>2020-05-03 21:56:14</td>\n",
       "      <td>2020-05-03</td>\n",
       "      <td>1</td>\n",
       "      <td>[33667166699652, 33667166699652, 3366717122163...</td>\n",
       "    </tr>\n",
       "  </tbody>\n",
       "</table>\n",
       "</div>"
      ]
     },
     "execution_count": 10,
     "metadata": {},
     "output_type": "execute_result"
    }
   ],
   "execution_count": 10
  },
  {
   "metadata": {
    "ExecuteTime": {
     "end_time": "2025-10-12T22:22:58.757645Z",
     "start_time": "2025-10-12T22:22:58.389951Z"
    }
   },
   "cell_type": "code",
   "source": [
    "# ESTUDIO DE ORDERS (PEDIDOS REALIZADOS)\n",
    "# Observamos las columnas de orders.\n",
    "orders.info()"
   ],
   "id": "d70798ba4889c8e6",
   "outputs": [
    {
     "name": "stdout",
     "output_type": "stream",
     "text": [
      "<class 'pandas.core.frame.DataFrame'>\n",
      "Index: 8773 entries, 10 to 64538\n",
      "Data columns (total 6 columns):\n",
      " #   Column          Non-Null Count  Dtype         \n",
      "---  ------          --------------  -----         \n",
      " 0   id              8773 non-null   int64         \n",
      " 1   user_id         8773 non-null   object        \n",
      " 2   created_at      8773 non-null   datetime64[us]\n",
      " 3   order_date      8773 non-null   datetime64[us]\n",
      " 4   user_order_seq  8773 non-null   int64         \n",
      " 5   ordered_items   8773 non-null   object        \n",
      "dtypes: datetime64[us](2), int64(2), object(2)\n",
      "memory usage: 479.8+ KB\n"
     ]
    }
   ],
   "execution_count": 11
  },
  {
   "metadata": {
    "ExecuteTime": {
     "end_time": "2025-10-12T22:22:59.695628Z",
     "start_time": "2025-10-12T22:22:59.667519Z"
    }
   },
   "cell_type": "code",
   "source": "# En este caso, todas las columnas contienen todos sus valores válidos (no nulos), ya que hay 8773 filas y en cada columna hay 8773 valores no nulos.",
   "id": "ce04a40cee13dd12",
   "outputs": [],
   "execution_count": 12
  },
  {
   "metadata": {
    "ExecuteTime": {
     "end_time": "2025-10-12T22:23:02.157452Z",
     "start_time": "2025-10-12T22:23:02.060039Z"
    }
   },
   "cell_type": "code",
   "source": "# Realizo algunas estadísticas descriptivas",
   "id": "9d53b68e0fb4c92f",
   "outputs": [],
   "execution_count": 13
  },
  {
   "metadata": {
    "ExecuteTime": {
     "end_time": "2025-10-12T22:23:03.139101Z",
     "start_time": "2025-10-12T22:23:03.029381Z"
    }
   },
   "cell_type": "code",
   "source": "orders.describe() #media, sd, min, max, percentiles (para las numéricas, aunque en este caso no tiene mucho sentido hacerlo)",
   "id": "faa92ca5bc47ff0e",
   "outputs": [
    {
     "data": {
      "text/plain": [
       "                 id                  created_at                  order_date  \\\n",
       "count  8.773000e+03                        8773                        8773   \n",
       "mean   3.684684e+12  2021-08-22 03:54:18.750028  2021-08-21 12:47:21.262966   \n",
       "min    2.204073e+12         2020-04-30 14:32:19         2020-04-30 00:00:00   \n",
       "25%    3.690255e+12         2021-04-25 11:50:37         2021-04-25 00:00:00   \n",
       "50%    3.846692e+12         2021-10-11 11:29:44         2021-10-11 00:00:00   \n",
       "75%    3.945086e+12         2022-01-03 18:14:23         2022-01-03 00:00:00   \n",
       "max    4.026732e+12         2022-03-14 00:24:59         2022-03-14 00:00:00   \n",
       "std    4.145437e+11                         NaN                         NaN   \n",
       "\n",
       "       user_order_seq  \n",
       "count     8773.000000  \n",
       "mean         2.445116  \n",
       "min          1.000000  \n",
       "25%          1.000000  \n",
       "50%          1.000000  \n",
       "75%          3.000000  \n",
       "max         25.000000  \n",
       "std          2.707693  "
      ],
      "text/html": [
       "<div>\n",
       "<style scoped>\n",
       "    .dataframe tbody tr th:only-of-type {\n",
       "        vertical-align: middle;\n",
       "    }\n",
       "\n",
       "    .dataframe tbody tr th {\n",
       "        vertical-align: top;\n",
       "    }\n",
       "\n",
       "    .dataframe thead th {\n",
       "        text-align: right;\n",
       "    }\n",
       "</style>\n",
       "<table border=\"1\" class=\"dataframe\">\n",
       "  <thead>\n",
       "    <tr style=\"text-align: right;\">\n",
       "      <th></th>\n",
       "      <th>id</th>\n",
       "      <th>created_at</th>\n",
       "      <th>order_date</th>\n",
       "      <th>user_order_seq</th>\n",
       "    </tr>\n",
       "  </thead>\n",
       "  <tbody>\n",
       "    <tr>\n",
       "      <th>count</th>\n",
       "      <td>8.773000e+03</td>\n",
       "      <td>8773</td>\n",
       "      <td>8773</td>\n",
       "      <td>8773.000000</td>\n",
       "    </tr>\n",
       "    <tr>\n",
       "      <th>mean</th>\n",
       "      <td>3.684684e+12</td>\n",
       "      <td>2021-08-22 03:54:18.750028</td>\n",
       "      <td>2021-08-21 12:47:21.262966</td>\n",
       "      <td>2.445116</td>\n",
       "    </tr>\n",
       "    <tr>\n",
       "      <th>min</th>\n",
       "      <td>2.204073e+12</td>\n",
       "      <td>2020-04-30 14:32:19</td>\n",
       "      <td>2020-04-30 00:00:00</td>\n",
       "      <td>1.000000</td>\n",
       "    </tr>\n",
       "    <tr>\n",
       "      <th>25%</th>\n",
       "      <td>3.690255e+12</td>\n",
       "      <td>2021-04-25 11:50:37</td>\n",
       "      <td>2021-04-25 00:00:00</td>\n",
       "      <td>1.000000</td>\n",
       "    </tr>\n",
       "    <tr>\n",
       "      <th>50%</th>\n",
       "      <td>3.846692e+12</td>\n",
       "      <td>2021-10-11 11:29:44</td>\n",
       "      <td>2021-10-11 00:00:00</td>\n",
       "      <td>1.000000</td>\n",
       "    </tr>\n",
       "    <tr>\n",
       "      <th>75%</th>\n",
       "      <td>3.945086e+12</td>\n",
       "      <td>2022-01-03 18:14:23</td>\n",
       "      <td>2022-01-03 00:00:00</td>\n",
       "      <td>3.000000</td>\n",
       "    </tr>\n",
       "    <tr>\n",
       "      <th>max</th>\n",
       "      <td>4.026732e+12</td>\n",
       "      <td>2022-03-14 00:24:59</td>\n",
       "      <td>2022-03-14 00:00:00</td>\n",
       "      <td>25.000000</td>\n",
       "    </tr>\n",
       "    <tr>\n",
       "      <th>std</th>\n",
       "      <td>4.145437e+11</td>\n",
       "      <td>NaN</td>\n",
       "      <td>NaN</td>\n",
       "      <td>2.707693</td>\n",
       "    </tr>\n",
       "  </tbody>\n",
       "</table>\n",
       "</div>"
      ]
     },
     "execution_count": 14,
     "metadata": {},
     "output_type": "execute_result"
    }
   ],
   "execution_count": 14
  },
  {
   "metadata": {
    "ExecuteTime": {
     "end_time": "2025-10-12T22:23:03.573720Z",
     "start_time": "2025-10-12T22:23:03.497882Z"
    }
   },
   "cell_type": "code",
   "source": [
    "# Quiero ver cuantos pedidos ha realizado cada usuario\n",
    "orders['user_id'].value_counts()"
   ],
   "id": "94550e57caff2a51",
   "outputs": [
    {
     "data": {
      "text/plain": [
       "user_id\n",
       "ba7176c5f870cd86e51ecc4375e0becc8cc305845e70b9384ba0d4d156c6099ec96602b15420cb1ff69b6b9adcf9249d09489d511565531c4e928a92157b16d6    25\n",
       "114e78a8909ad3f9d481e66563998301eff9e7cd1b2d002b77ffc26619f0ef7a6e877d5b3460e0e0bde2d7c67787c66d7384ccf34b4aa4fa1409e978cf47e670    22\n",
       "04e9d7967f4dfd7d40175f130f1c80f62204ff697df92dfd83407ace7997b6744b6a7cab0382e60f7264b13ba3f03c64f016ae9dca664885ace6020aba3b5131    22\n",
       "1296e1e72f7f43ff28d7d285f880ad4d213fa8139233c78ad2673af4cc0c1c297180254da494cc3b934858347822be437eeb072acb1403e9476dc0b2f6a83cbe    21\n",
       "a655b992a3ee5f6aa9f5ab5662c4befac1fdc45c99885b173618b661ca7381c383b1364e977c9f51366cdc62e4d92ff383e8e5aac7ea9a552059be2671de24e2    21\n",
       "                                                                                                                                    ..\n",
       "720193c88605b61f880b340ca9a02c673241a37ff74f7d20639fc933ed5438a3b96076b85f168231d34779994c26810adbb24e0d842639837780649a4baf16a8     1\n",
       "76f2a192182b2d88816355ac40307d4323c6d62da2a27d9730ada0ede741b392ff4eba195d0870fc0eee8e3cb05c9eb150eee8a34bd9fb6e95bbb6ed7ee4809b     1\n",
       "684faa133509c3941767934993b87c95993e24380e2fe140b774425938b1935d27b01b3b8c099fa3f471b4bba70b20318c2e90c0fb2bf4ac8af5fea3feb1cc00     1\n",
       "da143411647c56faccca7f404462dcd9212a59d75e8cc124b607d36e3a410201f78f520fd534858b3cbc60e2a3572494e3dfaf590769fc6ac108af5c402be473     1\n",
       "bd5dd90b15fc4c382330a17915927322d928a091b13f91aabe1b58afb721b3d4f47c56ff306eb34e6d94cabeed4dcea7d6a15ed81d605a0e9f4fd05a4b787c55     1\n",
       "Name: count, Length: 4983, dtype: int64"
      ]
     },
     "execution_count": 15,
     "metadata": {},
     "output_type": "execute_result"
    }
   ],
   "execution_count": 15
  },
  {
   "metadata": {
    "ExecuteTime": {
     "end_time": "2025-10-12T22:23:05.495739Z",
     "start_time": "2025-10-12T22:23:05.472876Z"
    }
   },
   "cell_type": "code",
   "source": [
    "# El usuario que más pedido ha realizado ha hecho 25 pediddos.\n",
    "# Mostrar las 5 primeras filas de la columna de Ordered_items, y muestra los productos comprados en esos 5 pedidos\n",
    "orders['ordered_items'].head()"
   ],
   "id": "e2bf309a805a828f",
   "outputs": [
    {
     "data": {
      "text/plain": [
       "10    [33618849693828, 33618860179588, 3361887404045...\n",
       "20    [33618835243140, 33618835964036, 3361886244058...\n",
       "21    [33618891145348, 33618893570180, 3361889766618...\n",
       "34    [33618830196868, 33618846580868, 3361891234624...\n",
       "49    [33667166699652, 33667166699652, 3366717122163...\n",
       "Name: ordered_items, dtype: object"
      ]
     },
     "execution_count": 16,
     "metadata": {},
     "output_type": "execute_result"
    }
   ],
   "execution_count": 16
  },
  {
   "metadata": {
    "ExecuteTime": {
     "end_time": "2025-10-12T22:23:06.073211Z",
     "start_time": "2025-10-12T22:23:06.039435Z"
    }
   },
   "cell_type": "code",
   "source": "# En conclusión, de orders saco que se hicieron 8773 pedidos y el cliente que más pedido realizó hizó 25 pedidos.",
   "id": "705ec4c332906f44",
   "outputs": [],
   "execution_count": 17
  },
  {
   "metadata": {
    "ExecuteTime": {
     "end_time": "2025-10-12T22:23:06.980800Z",
     "start_time": "2025-10-12T22:23:06.704678Z"
    }
   },
   "cell_type": "code",
   "source": [
    "# ESTUDIO DE REGULARS (CLIENTES REGULARES)\n",
    "regulars.head()"
   ],
   "id": "2a1f3302b6d66bb0",
   "outputs": [
    {
     "data": {
      "text/plain": [
       "                                              user_id      variant_id  \\\n",
       "3   68e872ff888303bff58ec56a3a986f77ddebdbe5c279e7...  33618848088196   \n",
       "11  aed88fc0b004270a62ff1fe4b94141f6b1db1496dbb0c0...  33667178659972   \n",
       "18  68e872ff888303bff58ec56a3a986f77ddebdbe5c279e7...  33619009208452   \n",
       "46  aed88fc0b004270a62ff1fe4b94141f6b1db1496dbb0c0...  33667305373828   \n",
       "47  4594e99557113d5a1c5b59bf31b8704aafe5c7bd180b32...  33667247341700   \n",
       "\n",
       "            created_at  \n",
       "3  2020-04-30 15:07:03  \n",
       "11 2020-05-05 23:34:35  \n",
       "18 2020-04-30 15:07:03  \n",
       "46 2020-05-05 23:34:35  \n",
       "47 2020-05-06 14:42:11  "
      ],
      "text/html": [
       "<div>\n",
       "<style scoped>\n",
       "    .dataframe tbody tr th:only-of-type {\n",
       "        vertical-align: middle;\n",
       "    }\n",
       "\n",
       "    .dataframe tbody tr th {\n",
       "        vertical-align: top;\n",
       "    }\n",
       "\n",
       "    .dataframe thead th {\n",
       "        text-align: right;\n",
       "    }\n",
       "</style>\n",
       "<table border=\"1\" class=\"dataframe\">\n",
       "  <thead>\n",
       "    <tr style=\"text-align: right;\">\n",
       "      <th></th>\n",
       "      <th>user_id</th>\n",
       "      <th>variant_id</th>\n",
       "      <th>created_at</th>\n",
       "    </tr>\n",
       "  </thead>\n",
       "  <tbody>\n",
       "    <tr>\n",
       "      <th>3</th>\n",
       "      <td>68e872ff888303bff58ec56a3a986f77ddebdbe5c279e7...</td>\n",
       "      <td>33618848088196</td>\n",
       "      <td>2020-04-30 15:07:03</td>\n",
       "    </tr>\n",
       "    <tr>\n",
       "      <th>11</th>\n",
       "      <td>aed88fc0b004270a62ff1fe4b94141f6b1db1496dbb0c0...</td>\n",
       "      <td>33667178659972</td>\n",
       "      <td>2020-05-05 23:34:35</td>\n",
       "    </tr>\n",
       "    <tr>\n",
       "      <th>18</th>\n",
       "      <td>68e872ff888303bff58ec56a3a986f77ddebdbe5c279e7...</td>\n",
       "      <td>33619009208452</td>\n",
       "      <td>2020-04-30 15:07:03</td>\n",
       "    </tr>\n",
       "    <tr>\n",
       "      <th>46</th>\n",
       "      <td>aed88fc0b004270a62ff1fe4b94141f6b1db1496dbb0c0...</td>\n",
       "      <td>33667305373828</td>\n",
       "      <td>2020-05-05 23:34:35</td>\n",
       "    </tr>\n",
       "    <tr>\n",
       "      <th>47</th>\n",
       "      <td>4594e99557113d5a1c5b59bf31b8704aafe5c7bd180b32...</td>\n",
       "      <td>33667247341700</td>\n",
       "      <td>2020-05-06 14:42:11</td>\n",
       "    </tr>\n",
       "  </tbody>\n",
       "</table>\n",
       "</div>"
      ]
     },
     "execution_count": 18,
     "metadata": {},
     "output_type": "execute_result"
    }
   ],
   "execution_count": 18
  },
  {
   "metadata": {
    "ExecuteTime": {
     "end_time": "2025-10-12T22:23:07.764751Z",
     "start_time": "2025-10-12T22:23:07.499508Z"
    }
   },
   "cell_type": "code",
   "source": "# Me devuelve, el usuario, productos variantes (pueden ser comprados, añadidos a la cesta o vistos) y la fecha en qué se realizó",
   "id": "a86f13607dc85d14",
   "outputs": [],
   "execution_count": 19
  },
  {
   "metadata": {
    "ExecuteTime": {
     "end_time": "2025-10-12T22:23:08.899909Z",
     "start_time": "2025-10-12T22:23:08.874593Z"
    }
   },
   "cell_type": "code",
   "source": "regulars.info()",
   "id": "6f3c5159ca633c03",
   "outputs": [
    {
     "name": "stdout",
     "output_type": "stream",
     "text": [
      "<class 'pandas.core.frame.DataFrame'>\n",
      "Index: 18105 entries, 3 to 37720\n",
      "Data columns (total 3 columns):\n",
      " #   Column      Non-Null Count  Dtype         \n",
      "---  ------      --------------  -----         \n",
      " 0   user_id     18105 non-null  object        \n",
      " 1   variant_id  18105 non-null  int64         \n",
      " 2   created_at  18105 non-null  datetime64[us]\n",
      "dtypes: datetime64[us](1), int64(1), object(1)\n",
      "memory usage: 565.8+ KB\n"
     ]
    }
   ],
   "execution_count": 20
  },
  {
   "metadata": {
    "ExecuteTime": {
     "end_time": "2025-10-12T22:23:10.915726Z",
     "start_time": "2025-10-12T22:23:09.788534Z"
    }
   },
   "cell_type": "code",
   "source": [
    "# De nuevo, todas las columnas tiene valores válidos.\n",
    "variant_counts = regulars['variant_id'].value_counts() # productos más populares\n",
    "variant_counts"
   ],
   "id": "4e481991211f4469",
   "outputs": [
    {
     "data": {
      "text/plain": [
       "variant_id\n",
       "34081589887108    253\n",
       "34370361229444    127\n",
       "33973249081476    114\n",
       "34370915041412    112\n",
       "34284951863428    105\n",
       "                 ... \n",
       "39544243552388      1\n",
       "39478260826244      1\n",
       "39711187894404      1\n",
       "39272601452676      1\n",
       "39459281010820      1\n",
       "Name: count, Length: 1843, dtype: int64"
      ]
     },
     "execution_count": 21,
     "metadata": {},
     "output_type": "execute_result"
    }
   ],
   "execution_count": 21
  },
  {
   "metadata": {
    "ExecuteTime": {
     "end_time": "2025-10-12T22:23:12.078304Z",
     "start_time": "2025-10-12T22:23:11.179467Z"
    }
   },
   "cell_type": "code",
   "source": [
    "# Gráfico de los 10 productos más regulares\n",
    "variant_counts.head(10).plot(kind='bar', title='Top 10 productos más populares')\n",
    "plt.ylabel('Número de interacciones')\n",
    "plt.show()"
   ],
   "id": "ac81ab51f2abb678",
   "outputs": [
    {
     "data": {
      "text/plain": [
       "<Figure size 1000x600 with 1 Axes>"
      ],
      "image/png": "[encoded data removed]"
     },
     "metadata": {},
     "output_type": "display_data"
    }
   ],
   "execution_count": 22
  },
  {
   "metadata": {
    "ExecuteTime": {
     "end_time": "2025-10-12T22:23:12.189319Z",
     "start_time": "2025-10-12T22:23:12.166465Z"
    }
   },
   "cell_type": "code",
   "source": "# En resumen, de regulars saco que el producto más popular que se repite 253 veces es 34081589887108.",
   "id": "18d4dccb8f3a7c7e",
   "outputs": [],
   "execution_count": 23
  },
  {
   "metadata": {
    "ExecuteTime": {
     "end_time": "2025-10-12T22:23:14.296381Z",
     "start_time": "2025-10-12T22:23:14.273611Z"
    }
   },
   "cell_type": "code",
   "source": "# REVISAR!!!!!!!! NO CARGA",
   "id": "61e1b3c0879ed537",
   "outputs": [],
   "execution_count": 24
  },
  {
   "metadata": {
    "ExecuteTime": {
     "end_time": "2025-10-12T22:23:15.855687Z",
     "start_time": "2025-10-12T22:23:15.850479Z"
    }
   },
   "cell_type": "code",
   "source": "# Estudio sobre inventory: información sobre cada producto",
   "id": "ca66d0e46ffbdf0e",
   "outputs": [],
   "execution_count": 25
  },
  {
   "metadata": {
    "ExecuteTime": {
     "end_time": "2025-10-12T22:23:18.622268Z",
     "start_time": "2025-10-12T22:23:18.474211Z"
    }
   },
   "cell_type": "code",
   "source": "inventory.head()",
   "id": "31d6ca0e858e5ee4",
   "outputs": [
    {
     "data": {
      "text/plain": [
       "       variant_id  price  compare_at_price          vendor  \\\n",
       "0  39587297165444   3.09              3.15           heinz   \n",
       "1  34370361229444   4.99              5.50   whogivesacrap   \n",
       "2  34284951863428   3.69              3.99          plenty   \n",
       "3  33667283583108   1.79              1.99  thecheekypanda   \n",
       "4  33803537973380   1.99              2.09         colgate   \n",
       "\n",
       "                      product_type                                        tags  \n",
       "0             condiments-dressings                       [table-sauces, vegan]  \n",
       "1  toilet-roll-kitchen-roll-tissue                 [b-corp, eco, toilet-rolls]  \n",
       "2  toilet-roll-kitchen-roll-tissue                              [kitchen-roll]  \n",
       "3  toilet-roll-kitchen-roll-tissue  [b-corp, cruelty-free, eco, tissue, vegan]  \n",
       "4                           dental                        [dental-accessories]  "
      ],
      "text/html": [
       "<div>\n",
       "<style scoped>\n",
       "    .dataframe tbody tr th:only-of-type {\n",
       "        vertical-align: middle;\n",
       "    }\n",
       "\n",
       "    .dataframe tbody tr th {\n",
       "        vertical-align: top;\n",
       "    }\n",
       "\n",
       "    .dataframe thead th {\n",
       "        text-align: right;\n",
       "    }\n",
       "</style>\n",
       "<table border=\"1\" class=\"dataframe\">\n",
       "  <thead>\n",
       "    <tr style=\"text-align: right;\">\n",
       "      <th></th>\n",
       "      <th>variant_id</th>\n",
       "      <th>price</th>\n",
       "      <th>compare_at_price</th>\n",
       "      <th>vendor</th>\n",
       "      <th>product_type</th>\n",
       "      <th>tags</th>\n",
       "    </tr>\n",
       "  </thead>\n",
       "  <tbody>\n",
       "    <tr>\n",
       "      <th>0</th>\n",
       "      <td>39587297165444</td>\n",
       "      <td>3.09</td>\n",
       "      <td>3.15</td>\n",
       "      <td>heinz</td>\n",
       "      <td>condiments-dressings</td>\n",
       "      <td>[table-sauces, vegan]</td>\n",
       "    </tr>\n",
       "    <tr>\n",
       "      <th>1</th>\n",
       "      <td>34370361229444</td>\n",
       "      <td>4.99</td>\n",
       "      <td>5.50</td>\n",
       "      <td>whogivesacrap</td>\n",
       "      <td>toilet-roll-kitchen-roll-tissue</td>\n",
       "      <td>[b-corp, eco, toilet-rolls]</td>\n",
       "    </tr>\n",
       "    <tr>\n",
       "      <th>2</th>\n",
       "      <td>34284951863428</td>\n",
       "      <td>3.69</td>\n",
       "      <td>3.99</td>\n",
       "      <td>plenty</td>\n",
       "      <td>toilet-roll-kitchen-roll-tissue</td>\n",
       "      <td>[kitchen-roll]</td>\n",
       "    </tr>\n",
       "    <tr>\n",
       "      <th>3</th>\n",
       "      <td>33667283583108</td>\n",
       "      <td>1.79</td>\n",
       "      <td>1.99</td>\n",
       "      <td>thecheekypanda</td>\n",
       "      <td>toilet-roll-kitchen-roll-tissue</td>\n",
       "      <td>[b-corp, cruelty-free, eco, tissue, vegan]</td>\n",
       "    </tr>\n",
       "    <tr>\n",
       "      <th>4</th>\n",
       "      <td>33803537973380</td>\n",
       "      <td>1.99</td>\n",
       "      <td>2.09</td>\n",
       "      <td>colgate</td>\n",
       "      <td>dental</td>\n",
       "      <td>[dental-accessories]</td>\n",
       "    </tr>\n",
       "  </tbody>\n",
       "</table>\n",
       "</div>"
      ]
     },
     "execution_count": 26,
     "metadata": {},
     "output_type": "execute_result"
    }
   ],
   "execution_count": 26
  },
  {
   "metadata": {
    "ExecuteTime": {
     "end_time": "2025-10-12T22:23:19.025005Z",
     "start_time": "2025-10-12T22:23:18.908328Z"
    }
   },
   "cell_type": "code",
   "source": "inventory.info()",
   "id": "cf57e1933f19aada",
   "outputs": [
    {
     "name": "stdout",
     "output_type": "stream",
     "text": [
      "<class 'pandas.core.frame.DataFrame'>\n",
      "RangeIndex: 1733 entries, 0 to 1732\n",
      "Data columns (total 6 columns):\n",
      " #   Column            Non-Null Count  Dtype  \n",
      "---  ------            --------------  -----  \n",
      " 0   variant_id        1733 non-null   int64  \n",
      " 1   price             1733 non-null   float64\n",
      " 2   compare_at_price  1733 non-null   float64\n",
      " 3   vendor            1733 non-null   object \n",
      " 4   product_type      1733 non-null   object \n",
      " 5   tags              1733 non-null   object \n",
      "dtypes: float64(2), int64(1), object(3)\n",
      "memory usage: 81.4+ KB\n"
     ]
    }
   ],
   "execution_count": 27
  },
  {
   "metadata": {
    "ExecuteTime": {
     "end_time": "2025-10-12T22:23:19.516299Z",
     "start_time": "2025-10-12T22:23:19.382785Z"
    }
   },
   "cell_type": "code",
   "source": [
    "# Productos con mayor descuento\n",
    "inventory['discount'] = inventory['compare_at_price'] - inventory['price']\n",
    "inventory['discount_pct'] = (inventory['discount'] / inventory['compare_at_price']) * 100\n"
   ],
   "id": "6e1ebfc4c5270b42",
   "outputs": [],
   "execution_count": 28
  },
  {
   "metadata": {
    "ExecuteTime": {
     "end_time": "2025-10-12T22:23:19.752775Z",
     "start_time": "2025-10-12T22:23:19.568274Z"
    }
   },
   "cell_type": "code",
   "source": [
    "top_discount = inventory.sort_values(by='discount_pct', ascending=False).head(10)\n",
    "print(\"Top 10 productos con mayor descuento:\")\n",
    "print(top_discount[['variant_id', 'tags', 'price', 'compare_at_price', 'discount', 'discount_pct']])"
   ],
   "id": "16f4209f82998581",
   "outputs": [
    {
     "name": "stdout",
     "output_type": "stream",
     "text": [
      "Top 10 productos con mayor descuento:\n",
      "          variant_id                                               tags  \\\n",
      "104   34368927170692  [pasta-pizza-sauce, tinned-tomatoes-puree-pass...   \n",
      "917   39459277340804                                        [hand-soap]   \n",
      "731   33667196092548  [hand-soap, household & cleaning, toiletries &...   \n",
      "149   34369153564804  [pasta-pizza-sauce, tinned-tomatoes-puree-pass...   \n",
      "1610  33826415706244                         [discontinue, eco, size-3]   \n",
      "830   39349425340548                    [suncream, toiletries & health]   \n",
      "220   34173021192324                                           [squash]   \n",
      "1186  39459283665028                                  [facial-skincare]   \n",
      "182   39459279798404                                  [facial-skincare]   \n",
      "406   39600950378628                                  [crackers, vegan]   \n",
      "\n",
      "      price  compare_at_price  discount  discount_pct  \n",
      "104    0.83             11.99     11.16     93.077565  \n",
      "917    2.19              5.80      3.61     62.241379  \n",
      "731    1.10              2.90      1.80     62.068966  \n",
      "149    1.00              2.59      1.59     61.389961  \n",
      "1610   4.79             10.59      5.80     54.768650  \n",
      "830    6.49             13.99      7.50     53.609721  \n",
      "220    2.69              5.79      3.10     53.540587  \n",
      "1186   1.99              4.18      2.19     52.392344  \n",
      "182    1.99              4.18      2.19     52.392344  \n",
      "406    2.49              5.16      2.67     51.744186  \n"
     ]
    }
   ],
   "execution_count": 29
  },
  {
   "metadata": {
    "ExecuteTime": {
     "end_time": "2025-10-12T22:23:20.841210Z",
     "start_time": "2025-10-12T22:23:20.742257Z"
    }
   },
   "cell_type": "code",
   "source": "from collections import Counter",
   "id": "c20b55ca3b8f2ed0",
   "outputs": [],
   "execution_count": 30
  },
  {
   "metadata": {
    "ExecuteTime": {
     "end_time": "2025-10-12T22:23:22.767239Z",
     "start_time": "2025-10-12T22:23:22.687164Z"
    }
   },
   "cell_type": "code",
   "source": [
    "# Qué productos son los que tienen mayor descuento\n",
    "\n",
    "# Convertir todo a string y eliminar NaN\n",
    "tags_as_str = top_discount['tags'].dropna().astype(str)\n",
    "\n",
    "# Separar etiquetas y contar\n",
    "all_tags = tags_as_str.str.split(',').sum()\n",
    "tag_counts = Counter([tag.strip() for tag in all_tags])\n",
    "\n",
    "print(\"Etiquetas más frecuentes en los productos con mayor descuento:\")\n",
    "print(tag_counts.most_common())\n"
   ],
   "id": "c16804de1cb9b19c",
   "outputs": [
    {
     "name": "stdout",
     "output_type": "stream",
     "text": [
      "Etiquetas más frecuentes en los productos con mayor descuento:\n",
      "[(\"['pasta-pizza-sauce' 'tinned-tomatoes-puree-passata']\", 2), (\"['facial-skincare']\", 2), (\"['hand-soap']\", 1), (\"['hand-soap' 'household & cleaning' 'toiletries & health']\", 1), (\"['discontinue' 'eco' 'size-3']\", 1), (\"['suncream' 'toiletries & health']\", 1), (\"['squash']\", 1), (\"['crackers' 'vegan']\", 1)]\n"
     ]
    }
   ],
   "execution_count": 31
  },
  {
   "metadata": {
    "ExecuteTime": {
     "end_time": "2025-10-12T22:23:25.858257Z",
     "start_time": "2025-10-12T22:23:24.512974Z"
    }
   },
   "cell_type": "code",
   "source": [
    "# Veamos si los productos con mayor descuento son los más regulares\n",
    "# Top 20 productos con mayor descuento\n",
    "top_discount = inventory.sort_values(by='discount_pct', ascending=False).head(20)"
   ],
   "id": "a7e01b4bbbea04a2",
   "outputs": [],
   "execution_count": 32
  },
  {
   "metadata": {
    "ExecuteTime": {
     "end_time": "2025-10-12T22:23:26.788563Z",
     "start_time": "2025-10-12T22:23:26.599808Z"
    }
   },
   "cell_type": "code",
   "source": [
    "# Contamos las veces que aparecen estos productos entre los clientes + regulares\n",
    "regular_top = regulars[regulars['variant_id'].isin(top_discount['variant_id'])]\n",
    "variant_counts = regular_top['variant_id'].value_counts()"
   ],
   "id": "901d906046340a1c",
   "outputs": [],
   "execution_count": 33
  },
  {
   "metadata": {
    "ExecuteTime": {
     "end_time": "2025-10-12T22:23:28.233366Z",
     "start_time": "2025-10-12T22:23:28.188777Z"
    }
   },
   "cell_type": "code",
   "source": "variant_counts # el producto del top descuento que más se repite entre usuarios, se repite 5 veces",
   "id": "acf4c6635e23baed",
   "outputs": [
    {
     "data": {
      "text/plain": [
       "variant_id\n",
       "33667185279108    50\n",
       "34173021192324    35\n",
       "33667185311876    23\n",
       "39459277340804    20\n",
       "33719433986180    11\n",
       "39349425340548     5\n",
       "33667228663940     5\n",
       "34246816923780     4\n",
       "34246816989316     4\n",
       "33667196092548     3\n",
       "33667228532868     2\n",
       "39600950411396     2\n",
       "39459279798404     2\n",
       "39542988898436     2\n",
       "34415988179076     2\n",
       "Name: count, dtype: int64"
      ]
     },
     "execution_count": 34,
     "metadata": {},
     "output_type": "execute_result"
    }
   ],
   "execution_count": 34
  },
  {
   "metadata": {
    "ExecuteTime": {
     "end_time": "2025-10-12T22:23:48.288333Z",
     "start_time": "2025-10-12T22:23:48.119555Z"
    }
   },
   "cell_type": "code",
   "source": [
    "# Relación entre los productos con mayor descuento y los clientes más regulares\n",
    "analysis = inventory.set_index('variant_id').join(variant_counts.rename('num_interactions'))\n",
    "analysis = analysis.fillna(0)  # rellenar variantes sin interacciones\n",
    "analysis_filtered = analysis[analysis['num_interactions'] > 0]\n",
    "analysis"
   ],
   "id": "b0b6f6e9f00b1c74",
   "outputs": [
    {
     "data": {
      "text/plain": [
       "                price  compare_at_price          vendor  \\\n",
       "variant_id                                                \n",
       "39587297165444   3.09              3.15           heinz   \n",
       "34370361229444   4.99              5.50   whogivesacrap   \n",
       "34284951863428   3.69              3.99          plenty   \n",
       "33667283583108   1.79              1.99  thecheekypanda   \n",
       "33803537973380   1.99              2.09         colgate   \n",
       "...               ...               ...             ...   \n",
       "39539419218052   4.99              5.99          bother   \n",
       "34534187368580   4.69              5.49    tommeetippee   \n",
       "33826439594116  15.39             17.15          colief   \n",
       "33667214508164  19.49             21.65      enterosgel   \n",
       "33667214704772  31.99             34.60         eskimo3   \n",
       "\n",
       "                                   product_type  \\\n",
       "variant_id                                        \n",
       "39587297165444             condiments-dressings   \n",
       "34370361229444  toilet-roll-kitchen-roll-tissue   \n",
       "34284951863428  toilet-roll-kitchen-roll-tissue   \n",
       "33667283583108  toilet-roll-kitchen-roll-tissue   \n",
       "33803537973380                           dental   \n",
       "...                                         ...   \n",
       "39539419218052                                    \n",
       "34534187368580                 baby-accessories   \n",
       "33826439594116                 baby-accessories   \n",
       "33667214508164             medicines-treatments   \n",
       "33667214704772           superfoods-supplements   \n",
       "\n",
       "                                                      tags  discount  \\\n",
       "variant_id                                                             \n",
       "39587297165444                       [table-sauces, vegan]      0.06   \n",
       "34370361229444                 [b-corp, eco, toilet-rolls]      0.51   \n",
       "34284951863428                              [kitchen-roll]      0.30   \n",
       "33667283583108  [b-corp, cruelty-free, eco, tissue, vegan]      0.20   \n",
       "33803537973380                        [dental-accessories]      0.10   \n",
       "...                                                    ...       ...   \n",
       "39539419218052                        [household-sundries]      1.00   \n",
       "34534187368580                           [feeding-weaning]      0.80   \n",
       "33826439594116                           [feeding-weaning]      1.76   \n",
       "33667214508164                    [discontinue, first-aid]      2.16   \n",
       "33667214704772         [discontinue, vitamins-supplements]      2.61   \n",
       "\n",
       "                discount_pct  num_interactions  \n",
       "variant_id                                      \n",
       "39587297165444      1.904762               0.0  \n",
       "34370361229444      9.272727               0.0  \n",
       "34284951863428      7.518797               0.0  \n",
       "33667283583108     10.050251               0.0  \n",
       "33803537973380      4.784689               0.0  \n",
       "...                      ...               ...  \n",
       "39539419218052     16.694491               0.0  \n",
       "34534187368580     14.571949               0.0  \n",
       "33826439594116     10.262391               0.0  \n",
       "33667214508164      9.976905               0.0  \n",
       "33667214704772      7.543353               0.0  \n",
       "\n",
       "[1733 rows x 8 columns]"
      ],
      "text/html": [
       "<div>\n",
       "<style scoped>\n",
       "    .dataframe tbody tr th:only-of-type {\n",
       "        vertical-align: middle;\n",
       "    }\n",
       "\n",
       "    .dataframe tbody tr th {\n",
       "        vertical-align: top;\n",
       "    }\n",
       "\n",
       "    .dataframe thead th {\n",
       "        text-align: right;\n",
       "    }\n",
       "</style>\n",
       "<table border=\"1\" class=\"dataframe\">\n",
       "  <thead>\n",
       "    <tr style=\"text-align: right;\">\n",
       "      <th></th>\n",
       "      <th>price</th>\n",
       "      <th>compare_at_price</th>\n",
       "      <th>vendor</th>\n",
       "      <th>product_type</th>\n",
       "      <th>tags</th>\n",
       "      <th>discount</th>\n",
       "      <th>discount_pct</th>\n",
       "      <th>num_interactions</th>\n",
       "    </tr>\n",
       "    <tr>\n",
       "      <th>variant_id</th>\n",
       "      <th></th>\n",
       "      <th></th>\n",
       "      <th></th>\n",
       "      <th></th>\n",
       "      <th></th>\n",
       "      <th></th>\n",
       "      <th></th>\n",
       "      <th></th>\n",
       "    </tr>\n",
       "  </thead>\n",
       "  <tbody>\n",
       "    <tr>\n",
       "      <th>39587297165444</th>\n",
       "      <td>3.09</td>\n",
       "      <td>3.15</td>\n",
       "      <td>heinz</td>\n",
       "      <td>condiments-dressings</td>\n",
       "      <td>[table-sauces, vegan]</td>\n",
       "      <td>0.06</td>\n",
       "      <td>1.904762</td>\n",
       "      <td>0.0</td>\n",
       "    </tr>\n",
       "    <tr>\n",
       "      <th>34370361229444</th>\n",
       "      <td>4.99</td>\n",
       "      <td>5.50</td>\n",
       "      <td>whogivesacrap</td>\n",
       "      <td>toilet-roll-kitchen-roll-tissue</td>\n",
       "      <td>[b-corp, eco, toilet-rolls]</td>\n",
       "      <td>0.51</td>\n",
       "      <td>9.272727</td>\n",
       "      <td>0.0</td>\n",
       "    </tr>\n",
       "    <tr>\n",
       "      <th>34284951863428</th>\n",
       "      <td>3.69</td>\n",
       "      <td>3.99</td>\n",
       "      <td>plenty</td>\n",
       "      <td>toilet-roll-kitchen-roll-tissue</td>\n",
       "      <td>[kitchen-roll]</td>\n",
       "      <td>0.30</td>\n",
       "      <td>7.518797</td>\n",
       "      <td>0.0</td>\n",
       "    </tr>\n",
       "    <tr>\n",
       "      <th>33667283583108</th>\n",
       "      <td>1.79</td>\n",
       "      <td>1.99</td>\n",
       "      <td>thecheekypanda</td>\n",
       "      <td>toilet-roll-kitchen-roll-tissue</td>\n",
       "      <td>[b-corp, cruelty-free, eco, tissue, vegan]</td>\n",
       "      <td>0.20</td>\n",
       "      <td>10.050251</td>\n",
       "      <td>0.0</td>\n",
       "    </tr>\n",
       "    <tr>\n",
       "      <th>33803537973380</th>\n",
       "      <td>1.99</td>\n",
       "      <td>2.09</td>\n",
       "      <td>colgate</td>\n",
       "      <td>dental</td>\n",
       "      <td>[dental-accessories]</td>\n",
       "      <td>0.10</td>\n",
       "      <td>4.784689</td>\n",
       "      <td>0.0</td>\n",
       "    </tr>\n",
       "    <tr>\n",
       "      <th>...</th>\n",
       "      <td>...</td>\n",
       "      <td>...</td>\n",
       "      <td>...</td>\n",
       "      <td>...</td>\n",
       "      <td>...</td>\n",
       "      <td>...</td>\n",
       "      <td>...</td>\n",
       "      <td>...</td>\n",
       "    </tr>\n",
       "    <tr>\n",
       "      <th>39539419218052</th>\n",
       "      <td>4.99</td>\n",
       "      <td>5.99</td>\n",
       "      <td>bother</td>\n",
       "      <td></td>\n",
       "      <td>[household-sundries]</td>\n",
       "      <td>1.00</td>\n",
       "      <td>16.694491</td>\n",
       "      <td>0.0</td>\n",
       "    </tr>\n",
       "    <tr>\n",
       "      <th>34534187368580</th>\n",
       "      <td>4.69</td>\n",
       "      <td>5.49</td>\n",
       "      <td>tommeetippee</td>\n",
       "      <td>baby-accessories</td>\n",
       "      <td>[feeding-weaning]</td>\n",
       "      <td>0.80</td>\n",
       "      <td>14.571949</td>\n",
       "      <td>0.0</td>\n",
       "    </tr>\n",
       "    <tr>\n",
       "      <th>33826439594116</th>\n",
       "      <td>15.39</td>\n",
       "      <td>17.15</td>\n",
       "      <td>colief</td>\n",
       "      <td>baby-accessories</td>\n",
       "      <td>[feeding-weaning]</td>\n",
       "      <td>1.76</td>\n",
       "      <td>10.262391</td>\n",
       "      <td>0.0</td>\n",
       "    </tr>\n",
       "    <tr>\n",
       "      <th>33667214508164</th>\n",
       "      <td>19.49</td>\n",
       "      <td>21.65</td>\n",
       "      <td>enterosgel</td>\n",
       "      <td>medicines-treatments</td>\n",
       "      <td>[discontinue, first-aid]</td>\n",
       "      <td>2.16</td>\n",
       "      <td>9.976905</td>\n",
       "      <td>0.0</td>\n",
       "    </tr>\n",
       "    <tr>\n",
       "      <th>33667214704772</th>\n",
       "      <td>31.99</td>\n",
       "      <td>34.60</td>\n",
       "      <td>eskimo3</td>\n",
       "      <td>superfoods-supplements</td>\n",
       "      <td>[discontinue, vitamins-supplements]</td>\n",
       "      <td>2.61</td>\n",
       "      <td>7.543353</td>\n",
       "      <td>0.0</td>\n",
       "    </tr>\n",
       "  </tbody>\n",
       "</table>\n",
       "<p>1733 rows × 8 columns</p>\n",
       "</div>"
      ]
     },
     "execution_count": 36,
     "metadata": {},
     "output_type": "execute_result"
    }
   ],
   "execution_count": 36
  },
  {
   "metadata": {
    "ExecuteTime": {
     "end_time": "2025-10-12T22:24:21.756385Z",
     "start_time": "2025-10-12T22:24:21.251773Z"
    }
   },
   "cell_type": "code",
   "source": [
    "# Gráfico: relación entre descuento y número de interacciones\n",
    "plt.figure(figsize=(10,6))\n",
    "plt.scatter(analysis_filtered['discount_pct'], analysis_filtered['num_interactions'], alpha=0.6)\n",
    "plt.xlabel('Descuento (%)')\n",
    "plt.ylabel('Número de interacciones de usuarios regulares')\n",
    "plt.title('Relación entre productos con descuento y usuarios regulares')\n",
    "plt.show()"
   ],
   "id": "3847a087bf5a6347",
   "outputs": [
    {
     "data": {
      "text/plain": [
       "<Figure size 1000x600 with 1 Axes>"
      ],
      "image/png": "[encoded data removed]"
     },
     "metadata": {},
     "output_type": "display_data"
    }
   ],
   "execution_count": 37
  },
  {
   "metadata": {
    "ExecuteTime": {
     "end_time": "2025-10-12T22:24:58.500211Z",
     "start_time": "2025-10-12T22:24:58.483438Z"
    }
   },
   "cell_type": "code",
   "source": [
    "# Correlación\n",
    "correlation = analysis_filtered['discount_pct'].corr(analysis_filtered['num_interactions'])\n",
    "print(\"Correlación entre descuento y número de interacciones:\", correlation)"
   ],
   "id": "2077da5ac7e645ef",
   "outputs": [
    {
     "name": "stdout",
     "output_type": "stream",
     "text": [
      "Correlación entre descuento y número de interacciones: 0.02774243315492273\n"
     ]
    }
   ],
   "execution_count": 39
  },
  {
   "metadata": {
    "ExecuteTime": {
     "end_time": "2025-10-12T22:36:17.076158Z",
     "start_time": "2025-10-12T22:36:17.070603Z"
    }
   },
   "cell_type": "code",
   "source": "# Por tanto, no significa que un mayor descuento implique un mayor número de ventas entre los usuarios regulares",
   "id": "678384895e0d6a57",
   "outputs": [],
   "execution_count": 46
  },
  {
   "metadata": {
    "ExecuteTime": {
     "end_time": "2025-10-12T22:38:26.665977Z",
     "start_time": "2025-10-12T22:38:26.594189Z"
    }
   },
   "cell_type": "code",
   "source": [
    "# ESTUDIO SOBRE LOS VENDEDORES\n",
    "inventory['vendor'].nunique() # cuántos vendedores hay\n",
    "inventory['vendor'].value_counts().head(10) # los 10 vendedores con + productos"
   ],
   "id": "6115f19e23e4e00",
   "outputs": [
    {
     "data": {
      "text/plain": [
       "vendor\n",
       "biona            69\n",
       "ecover           34\n",
       "napolina         28\n",
       "faithinnature    27\n",
       "method           26\n",
       "hiderfoods       24\n",
       "greencuisine     24\n",
       "various          23\n",
       "ellaskitchen     18\n",
       "febreze          17\n",
       "Name: count, dtype: int64"
      ]
     },
     "execution_count": 47,
     "metadata": {},
     "output_type": "execute_result"
    }
   ],
   "execution_count": 47
  },
  {
   "metadata": {
    "ExecuteTime": {
     "end_time": "2025-10-12T22:39:12.395710Z",
     "start_time": "2025-10-12T22:39:12.309298Z"
    }
   },
   "cell_type": "code",
   "source": [
    "# Veamos qué vendedores venden más caro o aplican más descuentos\n",
    "inventory.groupby('vendor')[['price', 'compare_at_price']].mean().head()"
   ],
   "id": "614ff37397074d2b",
   "outputs": [
    {
     "data": {
      "text/plain": [
       "              price  compare_at_price\n",
       "vendor                               \n",
       "7up        3.190000          4.000000\n",
       "absolut   19.990000         20.690000\n",
       "alpro     13.715000         14.500000\n",
       "always     1.656667          1.993333\n",
       "ambrosia   1.995000          2.085000"
      ],
      "text/html": [
       "<div>\n",
       "<style scoped>\n",
       "    .dataframe tbody tr th:only-of-type {\n",
       "        vertical-align: middle;\n",
       "    }\n",
       "\n",
       "    .dataframe tbody tr th {\n",
       "        vertical-align: top;\n",
       "    }\n",
       "\n",
       "    .dataframe thead th {\n",
       "        text-align: right;\n",
       "    }\n",
       "</style>\n",
       "<table border=\"1\" class=\"dataframe\">\n",
       "  <thead>\n",
       "    <tr style=\"text-align: right;\">\n",
       "      <th></th>\n",
       "      <th>price</th>\n",
       "      <th>compare_at_price</th>\n",
       "    </tr>\n",
       "    <tr>\n",
       "      <th>vendor</th>\n",
       "      <th></th>\n",
       "      <th></th>\n",
       "    </tr>\n",
       "  </thead>\n",
       "  <tbody>\n",
       "    <tr>\n",
       "      <th>7up</th>\n",
       "      <td>3.190000</td>\n",
       "      <td>4.000000</td>\n",
       "    </tr>\n",
       "    <tr>\n",
       "      <th>absolut</th>\n",
       "      <td>19.990000</td>\n",
       "      <td>20.690000</td>\n",
       "    </tr>\n",
       "    <tr>\n",
       "      <th>alpro</th>\n",
       "      <td>13.715000</td>\n",
       "      <td>14.500000</td>\n",
       "    </tr>\n",
       "    <tr>\n",
       "      <th>always</th>\n",
       "      <td>1.656667</td>\n",
       "      <td>1.993333</td>\n",
       "    </tr>\n",
       "    <tr>\n",
       "      <th>ambrosia</th>\n",
       "      <td>1.995000</td>\n",
       "      <td>2.085000</td>\n",
       "    </tr>\n",
       "  </tbody>\n",
       "</table>\n",
       "</div>"
      ]
     },
     "execution_count": 48,
     "metadata": {},
     "output_type": "execute_result"
    }
   ],
   "execution_count": 48
  },
  {
   "metadata": {
    "ExecuteTime": {
     "end_time": "2025-10-12T22:40:56.126119Z",
     "start_time": "2025-10-12T22:40:56.052726Z"
    }
   },
   "cell_type": "code",
   "source": [
    "# ESTUDIO SOBRE LOS USUARIOS\n",
    "users.head()"
   ],
   "id": "943bb918257bd327",
   "outputs": [
    {
     "data": {
      "text/plain": [
       "                                                user_id user_segment  \\\n",
       "2160  0e823a42e107461379e5b5613b7aa00537a72e1b0eaa7a...       Top Up   \n",
       "1123  15768ced9bed648f745a7aa566a8895f7a73b9a47c1d4f...       Top Up   \n",
       "1958  33e0cb6eacea0775e34adbaa2c1dec16b9d6484e6b9324...       Top Up   \n",
       "675   57ca7591dc79825df0cecc4836a58e6062454555c86c35...       Top Up   \n",
       "4694  085d8e598139ce6fc9f75d9de97960fa9e1457b409ec00...       Top Up   \n",
       "\n",
       "     user_nuts1     first_ordered_at customer_cohort_month  count_people  \\\n",
       "2160        UKH  2021-05-08 13:33:49   2021-05-01 00:00:00           NaN   \n",
       "1123        UKJ  2021-11-17 16:30:20   2021-11-01 00:00:00           NaN   \n",
       "1958        UKD  2022-03-09 23:12:25   2022-03-01 00:00:00           NaN   \n",
       "675         UKI  2021-04-23 16:29:02   2021-04-01 00:00:00           NaN   \n",
       "4694        UKJ  2021-11-02 13:50:06   2021-11-01 00:00:00           NaN   \n",
       "\n",
       "      count_adults  count_children  count_babies  count_pets  \n",
       "2160           NaN             NaN           NaN         NaN  \n",
       "1123           NaN             NaN           NaN         NaN  \n",
       "1958           NaN             NaN           NaN         NaN  \n",
       "675            NaN             NaN           NaN         NaN  \n",
       "4694           NaN             NaN           NaN         NaN  "
      ],
      "text/html": [
       "<div>\n",
       "<style scoped>\n",
       "    .dataframe tbody tr th:only-of-type {\n",
       "        vertical-align: middle;\n",
       "    }\n",
       "\n",
       "    .dataframe tbody tr th {\n",
       "        vertical-align: top;\n",
       "    }\n",
       "\n",
       "    .dataframe thead th {\n",
       "        text-align: right;\n",
       "    }\n",
       "</style>\n",
       "<table border=\"1\" class=\"dataframe\">\n",
       "  <thead>\n",
       "    <tr style=\"text-align: right;\">\n",
       "      <th></th>\n",
       "      <th>user_id</th>\n",
       "      <th>user_segment</th>\n",
       "      <th>user_nuts1</th>\n",
       "      <th>first_ordered_at</th>\n",
       "      <th>customer_cohort_month</th>\n",
       "      <th>count_people</th>\n",
       "      <th>count_adults</th>\n",
       "      <th>count_children</th>\n",
       "      <th>count_babies</th>\n",
       "      <th>count_pets</th>\n",
       "    </tr>\n",
       "  </thead>\n",
       "  <tbody>\n",
       "    <tr>\n",
       "      <th>2160</th>\n",
       "      <td>0e823a42e107461379e5b5613b7aa00537a72e1b0eaa7a...</td>\n",
       "      <td>Top Up</td>\n",
       "      <td>UKH</td>\n",
       "      <td>2021-05-08 13:33:49</td>\n",
       "      <td>2021-05-01 00:00:00</td>\n",
       "      <td>NaN</td>\n",
       "      <td>NaN</td>\n",
       "      <td>NaN</td>\n",
       "      <td>NaN</td>\n",
       "      <td>NaN</td>\n",
       "    </tr>\n",
       "    <tr>\n",
       "      <th>1123</th>\n",
       "      <td>15768ced9bed648f745a7aa566a8895f7a73b9a47c1d4f...</td>\n",
       "      <td>Top Up</td>\n",
       "      <td>UKJ</td>\n",
       "      <td>2021-11-17 16:30:20</td>\n",
       "      <td>2021-11-01 00:00:00</td>\n",
       "      <td>NaN</td>\n",
       "      <td>NaN</td>\n",
       "      <td>NaN</td>\n",
       "      <td>NaN</td>\n",
       "      <td>NaN</td>\n",
       "    </tr>\n",
       "    <tr>\n",
       "      <th>1958</th>\n",
       "      <td>33e0cb6eacea0775e34adbaa2c1dec16b9d6484e6b9324...</td>\n",
       "      <td>Top Up</td>\n",
       "      <td>UKD</td>\n",
       "      <td>2022-03-09 23:12:25</td>\n",
       "      <td>2022-03-01 00:00:00</td>\n",
       "      <td>NaN</td>\n",
       "      <td>NaN</td>\n",
       "      <td>NaN</td>\n",
       "      <td>NaN</td>\n",
       "      <td>NaN</td>\n",
       "    </tr>\n",
       "    <tr>\n",
       "      <th>675</th>\n",
       "      <td>57ca7591dc79825df0cecc4836a58e6062454555c86c35...</td>\n",
       "      <td>Top Up</td>\n",
       "      <td>UKI</td>\n",
       "      <td>2021-04-23 16:29:02</td>\n",
       "      <td>2021-04-01 00:00:00</td>\n",
       "      <td>NaN</td>\n",
       "      <td>NaN</td>\n",
       "      <td>NaN</td>\n",
       "      <td>NaN</td>\n",
       "      <td>NaN</td>\n",
       "    </tr>\n",
       "    <tr>\n",
       "      <th>4694</th>\n",
       "      <td>085d8e598139ce6fc9f75d9de97960fa9e1457b409ec00...</td>\n",
       "      <td>Top Up</td>\n",
       "      <td>UKJ</td>\n",
       "      <td>2021-11-02 13:50:06</td>\n",
       "      <td>2021-11-01 00:00:00</td>\n",
       "      <td>NaN</td>\n",
       "      <td>NaN</td>\n",
       "      <td>NaN</td>\n",
       "      <td>NaN</td>\n",
       "      <td>NaN</td>\n",
       "    </tr>\n",
       "  </tbody>\n",
       "</table>\n",
       "</div>"
      ]
     },
     "execution_count": 50,
     "metadata": {},
     "output_type": "execute_result"
    }
   ],
   "execution_count": 50
  },
  {
   "metadata": {
    "ExecuteTime": {
     "end_time": "2025-10-12T22:41:09.911187Z",
     "start_time": "2025-10-12T22:41:09.762960Z"
    }
   },
   "cell_type": "code",
   "source": "users.info()",
   "id": "ea0ec0337a237035",
   "outputs": [
    {
     "name": "stdout",
     "output_type": "stream",
     "text": [
      "<class 'pandas.core.frame.DataFrame'>\n",
      "Index: 4983 entries, 2160 to 3360\n",
      "Data columns (total 10 columns):\n",
      " #   Column                 Non-Null Count  Dtype  \n",
      "---  ------                 --------------  -----  \n",
      " 0   user_id                4983 non-null   object \n",
      " 1   user_segment           4983 non-null   object \n",
      " 2   user_nuts1             4932 non-null   object \n",
      " 3   first_ordered_at       4983 non-null   object \n",
      " 4   customer_cohort_month  4983 non-null   object \n",
      " 5   count_people           325 non-null    float64\n",
      " 6   count_adults           325 non-null    float64\n",
      " 7   count_children         325 non-null    float64\n",
      " 8   count_babies           325 non-null    float64\n",
      " 9   count_pets             325 non-null    float64\n",
      "dtypes: float64(5), object(5)\n",
      "memory usage: 428.2+ KB\n"
     ]
    }
   ],
   "execution_count": 51
  },
  {
   "metadata": {
    "ExecuteTime": {
     "end_time": "2025-10-12T22:55:23.674938Z",
     "start_time": "2025-10-12T22:55:23.599057Z"
    }
   },
   "cell_type": "code",
   "source": [
    "# Observamos que hay columnas con valores pérdidos, es decir, nulos (count_people, count_adults, count_childre, count_babies, count_pets). En adelante, trataremos los valores nulos como 0, suponiendo que si alguien no ha contestado es porque en dicha casa no hay bebé, ni niño... (Aunque es un poco extraño que en esa casa no haya ningún adulto ni persona).\n",
    "\n",
    "# Veamos qué tipo de usuarios predomina:\n",
    "users['user_segment'].value_counts()"
   ],
   "id": "d3e4d3e1d8d302f1",
   "outputs": [
    {
     "data": {
      "text/plain": [
       "user_segment\n",
       "Top Up         2643\n",
       "Proposition    2340\n",
       "Name: count, dtype: int64"
      ]
     },
     "execution_count": 57,
     "metadata": {},
     "output_type": "execute_result"
    }
   ],
   "execution_count": 57
  },
  {
   "metadata": {
    "ExecuteTime": {
     "end_time": "2025-10-12T22:55:25.795516Z",
     "start_time": "2025-10-12T22:55:25.766332Z"
    }
   },
   "cell_type": "code",
   "source": [
    "# No hay gran diferencias entre los clientes regulares (Top Up) y los puntuales (Preposition).  Veamos de donde son los usuarios:\n",
    "users['user_nuts1'].value_counts().head(10)\n"
   ],
   "id": "b9e31089eea90911",
   "outputs": [
    {
     "data": {
      "text/plain": [
       "user_nuts1\n",
       "UKI    1318\n",
       "UKJ     745\n",
       "UKK     602\n",
       "UKH     414\n",
       "UKD     358\n",
       "UKM     315\n",
       "UKE     303\n",
       "UKG     295\n",
       "UKF     252\n",
       "UKL     224\n",
       "Name: count, dtype: int64"
      ]
     },
     "execution_count": 58,
     "metadata": {},
     "output_type": "execute_result"
    }
   ],
   "execution_count": 58
  },
  {
   "metadata": {
    "ExecuteTime": {
     "end_time": "2025-10-12T22:57:58.030822Z",
     "start_time": "2025-10-12T22:57:57.939103Z"
    }
   },
   "cell_type": "code",
   "source": [
    "# Veamos cuáles son los productos más comprados por cada tipo de familia.\n",
    "# Rellenar valores nulos con 0\n",
    "users['count_children'] = users['count_children'].fillna(0)\n",
    "users['count_babies'] = users['count_babies'].fillna(0)\n",
    "users['count_pets'] = users['count_pets'].fillna(0)\n",
    "\n",
    "# Crear indicadores booleanos de perfil\n",
    "users['has_children'] = users['count_children'] > 0\n",
    "users['has_babies'] = users['count_babies'] > 0\n",
    "users['has_pets'] = users['count_pets'] > 0\n",
    "\n",
    "# Número de usuarios con hijos, bebés o mascotas\n",
    "print(users['has_children'].sum(), users['has_babies'].sum(), users['has_pets'].sum())\n",
    "\n",
    "# Número de pedidos de esos usuarios\n",
    "orders_users = orders.merge(users, on='user_id', how='left')\n",
    "print(orders_users[orders_users['has_children']].shape)\n",
    "print(orders_users[orders_users['has_babies']].shape)\n",
    "print(orders_users[orders_users['has_pets']].shape)\n",
    "\n"
   ],
   "id": "97797fbf9523dba2",
   "outputs": [
    {
     "name": "stdout",
     "output_type": "stream",
     "text": [
      "130 23 132\n",
      "(346, 18)\n",
      "(52, 18)\n",
      "(320, 18)\n"
     ]
    }
   ],
   "execution_count": 61
  },
  {
   "metadata": {
    "ExecuteTime": {
     "end_time": "2025-10-12T22:57:00.709938Z",
     "start_time": "2025-10-12T22:57:00.629132Z"
    }
   },
   "cell_type": "code",
   "source": [
    "# De los 130 casas con hijos, han hecho 346 pedidos\n",
    "# De las 23 casas con bebés, han hecho 52 pedidos\n",
    "# De las 132 casas con mascota, han hecho 320 pedidos.\n",
    "# Es decir, los clientes con hijos y mascostas les interesa a esta tienda."
   ],
   "id": "114109b645018659",
   "outputs": [],
   "execution_count": null
  },
  {
   "metadata": {},
   "cell_type": "code",
   "outputs": [],
   "execution_count": null,
   "source": "",
   "id": "d2a27fcefbaeedda"
  }
 ],
 "metadata": {
  "kernelspec": {
   "display_name": "Python 3",
   "language": "python",
   "name": "python3"
  },
  "language_info": {
   "codemirror_mode": {
    "name": "ipython",
    "version": 2
   },
   "file_extension": ".py",
   "mimetype": "text/x-python",
   "name": "python",
   "nbconvert_exporter": "python",
   "pygments_lexer": "ipython2",
   "version": "2.7.6"
  }
 },
 "nbformat": 4,
 "nbformat_minor": 5
}
